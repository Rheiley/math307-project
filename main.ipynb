{
 "cells": [
  {
   "cell_type": "code",
   "execution_count": null,
   "metadata": {},
   "outputs": [],
   "source": [
    "# imports\n",
    "import imageio.v2 as imageio # SciPy documentation says scipy.misc.imread is deprecated, so the alternative is imageio.imread\n",
    "import numpy as np\n",
    "from PIL import Image"
   ]
  },
  {
   "cell_type": "code",
   "execution_count": 36,
   "metadata": {},
   "outputs": [
    {
     "name": "stdout",
     "output_type": "stream",
     "text": [
      "9870336\n"
     ]
    }
   ],
   "source": [
    "A = imageio.imread('rheiley_grayscale.jpg')\n",
    "\n",
    "# Size of A\n",
    "print(A.nbytes)"
   ]
  },
  {
   "cell_type": "code",
   "execution_count": 3,
   "metadata": {},
   "outputs": [],
   "source": [
    "# Getting the SVD of A\n",
    "U, S, VT = np.linalg.svd(A)"
   ]
  },
  {
   "cell_type": "code",
   "execution_count": null,
   "metadata": {},
   "outputs": [],
   "source": [
    "# (c)\n",
    "\n",
    "# Computes the rank r approximation of a matrix A given the SVD and a value of k <= r, and returns the matrices & singular values that compose A_k\n",
    "def rank_r_approx(U, S, VT, k):\n",
    "    U_k = U[:, :k]\n",
    "    S_k = S[:k]\n",
    "    V_kT = VT[:k, :]\n",
    "\n",
    "    return U_k, S_k, V_kT\n",
    "\n",
    "# Constructs A_k given the matrices of its decomposition as inputs\n",
    "def construct_A_k(U_k, S_k, V_kT):\n",
    "    return U_k @ np.diag(S_k) @ V_kT # We know that the sum expressed in (2.3) can be written as a product of matrices\n",
    "\n",
    "# Computing A_1 and displaying the corresponding image\n",
    "U_1, S_1, V_1T = rank_r_approx(U, S, VT, 1)\n",
    "Image.fromarray(construct_A_k(U_1, S_1, V_1T)).show()"
   ]
  },
  {
   "cell_type": "code",
   "execution_count": 43,
   "metadata": {},
   "outputs": [],
   "source": [
    "# (d)\n",
    "\n",
    "# Computing A_k for some k <= r\n",
    "\n",
    "k = 150\n",
    "U_k, S_k, V_kT = rank_r_approx(U, S, VT, k)\n",
    "\n",
    "# Display the compressed image by constructing A_k from its rank r approximation\n",
    "compressed_image = Image.fromarray(construct_A_k(U_k, S_k, V_kT))\n",
    "\n",
    "compressed_image.convert('L').save('compressed_image.jpg')\n",
    "\n",
    "compressed_image.show()"
   ]
  },
  {
   "cell_type": "code",
   "execution_count": null,
   "metadata": {},
   "outputs": [],
   "source": [
    "# Calculate compression ratio\n",
    "original_image_size = A.nbytes\n",
    "\n",
    "compressed_image_size = U_k.nbytes + S_k.nbytes + V_kT.nbytes\n",
    "\n",
    "# print(original_image_size)\n",
    "# print(compressed_image_size)\n",
    "\n",
    "print(f'Singular values (k = {k}): ')\n",
    "print(S[:k])\n",
    "\n",
    "compression_ratio = original_image_size / compressed_image_size\n",
    "\n",
    "print('\\nCompression ratio:', compression_ratio)"
   ]
  },
  {
   "cell_type": "markdown",
   "metadata": {},
   "source": [
    "Compressed image (left), Original image (right)\n",
    "\n",
    "\n",
    "<img src=\"comparison.jpg\"/>"
   ]
  }
 ],
 "metadata": {
  "kernelspec": {
   "display_name": "Python 3",
   "language": "python",
   "name": "python3"
  },
  "language_info": {
   "codemirror_mode": {
    "name": "ipython",
    "version": 3
   },
   "file_extension": ".py",
   "mimetype": "text/x-python",
   "name": "python",
   "nbconvert_exporter": "python",
   "pygments_lexer": "ipython3",
   "version": "3.12.0"
  }
 },
 "nbformat": 4,
 "nbformat_minor": 2
}
