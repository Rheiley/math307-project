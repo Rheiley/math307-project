{
 "cells": [
  {
   "cell_type": "code",
   "execution_count": 2,
   "metadata": {},
   "outputs": [],
   "source": [
    "# imports\n",
    "import imageio.v2 as imageio\n",
    "import numpy as np\n",
    "from PIL import Image\n",
    "import os"
   ]
  },
  {
   "cell_type": "code",
   "execution_count": 3,
   "metadata": {},
   "outputs": [
    {
     "name": "stdout",
     "output_type": "stream",
     "text": [
      "9870336\n"
     ]
    }
   ],
   "source": [
    "A = imageio.imread('rheiley_grayscale.jpg')\n",
    "\n",
    "# Size of A\n",
    "print(A.size)"
   ]
  },
  {
   "cell_type": "code",
   "execution_count": null,
   "metadata": {},
   "outputs": [
    {
     "name": "stdout",
     "output_type": "stream",
     "text": [
      "[[239.65492161 239.86391166 240.00947505 ... 310.08622428 310.41257559\n",
      "  310.51643291]\n",
      " [239.65492161 239.86391166 240.00947505 ... 310.08622428 310.41257559\n",
      "  310.51643291]\n",
      " [239.65492161 239.86391166 240.00947505 ... 310.08622428 310.41257559\n",
      "  310.51643291]\n",
      " ...\n",
      " [ 83.8742627   83.94740489  83.99834906 ... 108.52376099 108.6379772\n",
      "  108.67432511]\n",
      " [ 83.77819276  83.85125118  83.902137   ... 108.39945742 108.5135428\n",
      "  108.54984908]\n",
      " [ 83.58970627  83.66260031  83.71337165 ... 108.15557732 108.26940603\n",
      "  108.30563063]]\n"
     ]
    }
   ],
   "source": [
    "# (c)\n",
    "\n",
    "# Computes the rank r approximation of a given matrix\n",
    "# We don't handle all edge cases because we know that we will be passing a value of k <= r for the duration of this project\n",
    "def rank_r_approx(A, k):\n",
    "    U, S, VT = np.linalg.svd(A)\n",
    "\n",
    "    # Construct the starting matrix so that we can add onto it with further iterations\n",
    "    u_1 = U[:, 0].reshape(-1, 1)\n",
    "    v_1T = VT[0, :].reshape(1, -1)\n",
    "    sigma_1 = S[0]\n",
    "\n",
    "    A_k = sigma_1*np.multiply(u_1, v_1T)\n",
    "\n",
    "    if(k == 1):\n",
    "        return A_k\n",
    "\n",
    "    for i in range(1, k):\n",
    "        # Extract the column/row vectors from their respective matrices\n",
    "        u_i = U[:, i].reshape(-1, 1)\n",
    "        v_iT = VT[i, :].reshape(1, -1)\n",
    "\n",
    "        # Get the i'th singular value\n",
    "        sigma_i = S[i]\n",
    "\n",
    "        A_k += sigma_i*np.multiply(u_i, v_iT)\n",
    "\n",
    "    return A_k\n",
    "\n",
    "# Computing A_1 and displaying the corresponding image\n",
    "A_1 = rank_r_approx(A, 1)\n",
    "Image.fromarray(A_1).show()"
   ]
  },
  {
   "cell_type": "code",
   "execution_count": null,
   "metadata": {},
   "outputs": [
    {
     "name": "stdout",
     "output_type": "stream",
     "text": [
      "[[239.65492161 239.86391166 240.00947505 ... 310.08622428 310.41257559\n",
      "  310.51643291]\n",
      " [239.65492161 239.86391166 240.00947505 ... 310.08622428 310.41257559\n",
      "  310.51643291]\n",
      " [239.65492161 239.86391166 240.00947505 ... 310.08622428 310.41257559\n",
      "  310.51643291]\n",
      " ...\n",
      " [ 83.8742627   83.94740489  83.99834906 ... 108.52376099 108.6379772\n",
      "  108.67432511]\n",
      " [ 83.77819276  83.85125118  83.902137   ... 108.39945742 108.5135428\n",
      "  108.54984908]\n",
      " [ 83.58970627  83.66260031  83.71337165 ... 108.15557732 108.26940603\n",
      "  108.30563063]]\n",
      "(3264, 3024)\n"
     ]
    }
   ],
   "source": [
    "# (d)\n",
    "\n",
    "# Computing A_k for multiple values of k\n",
    "\n",
    "# k = 150\n",
    "new_A = rank_r_approx(A, 1)\n",
    "\n",
    "compressed_image = Image.fromarray(new_A)\n",
    "\n",
    "compressed_image.show()"
   ]
  },
  {
   "cell_type": "code",
   "execution_count": null,
   "metadata": {},
   "outputs": [
    {
     "name": "stdout",
     "output_type": "stream",
     "text": [
      "78962688\n",
      "9870336\n",
      "Compression ratio: 8.0\n"
     ]
    }
   ],
   "source": [
    "# Calculate compression ratio\n",
    "# original_image_size = os.path.getsize('rheiley_grayscale.jpg')\n",
    "# compressed_image_size = os.path.getsize('compressed_image.jpg')\n",
    "\n",
    "original_image_size = A.nbytes\n",
    "compressed_image_size = new_A.nbytes\n",
    "\n",
    "print(compressed_image_size)\n",
    "print(original_image_size)\n",
    "\n",
    "compression_ratio = original_image_size / compressed_image_size\n",
    "\n",
    "print('Compression ratio:', compression_ratio)"
   ]
  }
 ],
 "metadata": {
  "kernelspec": {
   "display_name": "Python 3",
   "language": "python",
   "name": "python3"
  },
  "language_info": {
   "codemirror_mode": {
    "name": "ipython",
    "version": 3
   },
   "file_extension": ".py",
   "mimetype": "text/x-python",
   "name": "python",
   "nbconvert_exporter": "python",
   "pygments_lexer": "ipython3",
   "version": "3.12.0"
  }
 },
 "nbformat": 4,
 "nbformat_minor": 2
}
