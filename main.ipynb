{
 "cells": [
  {
   "cell_type": "code",
   "execution_count": 1,
   "metadata": {},
   "outputs": [],
   "source": [
    "# imports\n",
    "import imageio.v2 as imageio\n",
    "import numpy as np\n",
    "from PIL import Image\n"
   ]
  },
  {
   "cell_type": "code",
   "execution_count": 7,
   "metadata": {},
   "outputs": [
    {
     "data": {
      "text/plain": [
       "9870336"
      ]
     },
     "execution_count": 7,
     "metadata": {},
     "output_type": "execute_result"
    }
   ],
   "source": [
    "image = imageio.imread('rheiley_grayscale.jpg')\n",
    "\n",
    "# \n",
    "image.size"
   ]
  },
  {
   "cell_type": "code",
   "execution_count": null,
   "metadata": {},
   "outputs": [],
   "source": [
    "# (c)\n",
    "\n",
    "# Computes the rank r approximation of a given matrix\n",
    "# We don't handle edge cases b/c we know that we will always be passing a value of k <= r for the sake of this project\n",
    "def rank_r_approx(A, k):\n",
    "    U, S, VT = np.linalg.svd(A)\n",
    "\n",
    "    A_k = np.zeros_like(A, dtype=np.float64)\n",
    "    for i in range(k):\n",
    "        # Extract the column/row vectors from their respective matrices\n",
    "        u_i = U[:, i].reshape(-1, 1)\n",
    "        v_iT = VT[i, :].reshape(1, -1)\n",
    "\n",
    "        # Get the i'th singular value\n",
    "        sigma_i = S[i]\n",
    "\n",
    "        A_k += sigma_i*np.multiply(u_i, v_iT)\n",
    "\n",
    "    return A_k\n",
    "\n",
    "# Computing A_1 and displaying the corresponding image\n",
    "A_1 = rank_r_approx(image, 1)\n",
    "Image.fromarray(A_1).show()"
   ]
  },
  {
   "cell_type": "code",
   "execution_count": 15,
   "metadata": {},
   "outputs": [],
   "source": [
    "# testing code\n",
    "\n",
    "U, S, VT = np.linalg.svd(image)\n",
    "\n",
    "sigma1 = S[0]\n",
    "u1 = U[:, [0]].reshape(-1, 1)\n",
    "v1T = VT[:, 0].reshape(1, -1)\n",
    "\n",
    "A1 = sigma1 * np.multiply(u1, v1T)\n",
    "\n",
    "Image.fromarray(A1).show()\n"
   ]
  }
 ],
 "metadata": {
  "kernelspec": {
   "display_name": "Python 3",
   "language": "python",
   "name": "python3"
  },
  "language_info": {
   "codemirror_mode": {
    "name": "ipython",
    "version": 3
   },
   "file_extension": ".py",
   "mimetype": "text/x-python",
   "name": "python",
   "nbconvert_exporter": "python",
   "pygments_lexer": "ipython3",
   "version": "3.12.0"
  }
 },
 "nbformat": 4,
 "nbformat_minor": 2
}
