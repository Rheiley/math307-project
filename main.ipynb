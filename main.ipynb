{
 "cells": [
  {
   "cell_type": "code",
   "execution_count": 1,
   "metadata": {},
   "outputs": [],
   "source": [
    "# imports\n",
    "import imageio.v2 as imageio # SciPy documentation says scipy.misc.imread is deprecated, so the alternative is imageio.imread\n",
    "import numpy as np\n",
    "from PIL import Image"
   ]
  },
  {
   "cell_type": "code",
   "execution_count": 2,
   "metadata": {},
   "outputs": [
    {
     "name": "stdout",
     "output_type": "stream",
     "text": [
      "9870336\n"
     ]
    }
   ],
   "source": [
    "A = imageio.imread('rheiley_grayscale.jpg')\n",
    "\n",
    "# Size of A\n",
    "print(A.nbytes)"
   ]
  },
  {
   "cell_type": "code",
   "execution_count": 3,
   "metadata": {},
   "outputs": [],
   "source": [
    "# Getting the SVD of A\n",
    "U, S, VT = np.linalg.svd(A)"
   ]
  },
  {
   "cell_type": "code",
   "execution_count": 4,
   "metadata": {},
   "outputs": [],
   "source": [
    "# (c)\n",
    "\n",
    "# Computes the rank r approximation of a matrix A given the SVD and a value of k <= r, and returns the matrices & singular values that compose A_k\n",
    "def rank_r_approx(U, S, VT, k):\n",
    "    U_k = U[:, :k]\n",
    "    S_k = S[:k]\n",
    "    V_kT = VT[:k, :]\n",
    "\n",
    "    return U_k, S_k, V_kT\n",
    "\n",
    "# Constructs A_k given the matrices of its decomposition as inputs\n",
    "def construct_A_k(U_k, S_k, V_kT):\n",
    "    return U_k @ np.diag(S_k) @ V_kT # We know that the sum expressed in (2.3) can be written as a product of matrices\n",
    "\n",
    "# Computing A_1 and displaying the corresponding image\n",
    "U_1, S_1, V_1T = rank_r_approx(U, S, VT, 1)\n",
    "Image.fromarray(construct_A_k(U_1, S_1, V_1T)).show()"
   ]
  },
  {
   "cell_type": "code",
   "execution_count": null,
   "metadata": {},
   "outputs": [],
   "source": [
    "# (d)\n",
    "\n",
    "# Computing A_k for some k <= r\n",
    "\n",
    "k = 150\n",
    "U_k, S_k, V_kT = rank_r_approx(U, S, VT, k)\n",
    "\n",
    "# Display the compressed image by constructing A_k from its rank r approximation\n",
    "compressed_image = Image.fromarray(construct_A_k(U_k, S_k, V_kT))\n",
    "\n",
    "compressed_image.convert('L').save('compressed_image.jpg')\n",
    "\n",
    "# Displays the image\n",
    "compressed_image.show()"
   ]
  },
  {
   "cell_type": "code",
   "execution_count": 6,
   "metadata": {},
   "outputs": [
    {
     "name": "stdout",
     "output_type": "stream",
     "text": [
      "Singular values (k = 150): \n",
      "[538919.49242281  78794.15731081  71472.84796104  38790.72079273\n",
      "  31319.47648654  25214.07373842  23297.83775791  19609.74034255\n",
      "  18912.55115226  15301.23663029  14668.50584817  12699.69262734\n",
      "  11953.112487    11695.21878533  10759.39922422  10381.21164558\n",
      "  10139.60076547   9866.58126643   9610.19568548   9418.65922643\n",
      "   8996.6770234    8648.77188016   8542.17615063   8466.51290427\n",
      "   8217.8527567    8152.2473787    8013.53217062   7832.26097183\n",
      "   7709.04294565   7607.57189418   7598.76623641   7430.74740155\n",
      "   7207.31921648   7112.89398411   7019.4604575    6815.67683536\n",
      "   6752.84910711   6697.69999629   6610.71975843   6459.72615057\n",
      "   6363.77346061   6295.50953098   6200.36333224   6156.29494212\n",
      "   6040.59892307   5925.71254158   5891.9723279    5832.06718906\n",
      "   5767.55906748   5715.10076874   5660.76826026   5540.05020841\n",
      "   5503.59009991   5411.7420651    5375.83476891   5287.62222265\n",
      "   5256.15315384   5212.36973654   5146.86021612   5051.89507409\n",
      "   5025.96033306   4951.5109138    4929.11028373   4850.27908115\n",
      "   4803.18615769   4731.47245113   4721.57947884   4630.22752751\n",
      "   4574.05020301   4556.1121631    4492.02925148   4468.85689239\n",
      "   4437.86254074   4406.78492202   4396.53904268   4316.41760439\n",
      "   4281.56833985   4239.86368783   4215.15398925   4129.11470266\n",
      "   4113.90386271   4092.33127255   4029.46822448   3977.63166062\n",
      "   3944.71624805   3921.20155609   3862.07818786   3850.47557589\n",
      "   3817.27673452   3774.09495452   3738.91860355   3705.85280821\n",
      "   3657.64282433   3654.75100997   3625.53150449   3619.66577933\n",
      "   3552.04860833   3528.58358566   3490.0807431    3452.60016966\n",
      "   3434.56928857   3390.63217096   3380.11737997   3359.42289671\n",
      "   3285.86993552   3276.37996949   3208.07938293   3199.56039796\n",
      "   3194.46918514   3128.93680437   3119.10113278   3090.02507976\n",
      "   3036.52539257   3020.6516177    3005.04811447   2972.2460336\n",
      "   2936.14721768   2930.84524238   2880.97362838   2863.41656643\n",
      "   2847.25592708   2812.70546516   2795.19476137   2771.32942275\n",
      "   2766.02383722   2730.84847459   2703.97478046   2698.27107179\n",
      "   2658.4278058    2624.08035522   2618.70026262   2591.52304043\n",
      "   2564.52185419   2557.52167982   2527.61324844   2476.50482019\n",
      "   2469.67166136   2460.0694124    2435.23169882   2410.25940214\n",
      "   2406.71660582   2349.02165462   2331.68823822   2331.02612657\n",
      "   2320.98707416   2299.28892222   2290.335424     2238.63460165\n",
      "   2229.36363001   2223.54215576]\n",
      "\n",
      "Compression ratio: 1.3078836062967085\n"
     ]
    }
   ],
   "source": [
    "# Calculate compression ratio\n",
    "original_image_size = A.nbytes\n",
    "\n",
    "compressed_image_size = U_k.nbytes + S_k.nbytes + V_kT.nbytes\n",
    "\n",
    "# print(original_image_size)\n",
    "# print(compressed_image_size)\n",
    "\n",
    "print(f'Singular values (k = {k}): ')\n",
    "print(S[:k])\n",
    "\n",
    "compression_ratio = original_image_size / compressed_image_size\n",
    "\n",
    "print('\\nCompression ratio:', compression_ratio)"
   ]
  },
  {
   "cell_type": "markdown",
   "metadata": {},
   "source": [
    "Compressed image (left), Original image (right)\n",
    "\n",
    "\n",
    "<img src=\"comparison.jpg\"/>"
   ]
  }
 ],
 "metadata": {
  "kernelspec": {
   "display_name": "Python 3",
   "language": "python",
   "name": "python3"
  },
  "language_info": {
   "codemirror_mode": {
    "name": "ipython",
    "version": 3
   },
   "file_extension": ".py",
   "mimetype": "text/x-python",
   "name": "python",
   "nbconvert_exporter": "python",
   "pygments_lexer": "ipython3",
   "version": "3.12.0"
  }
 },
 "nbformat": 4,
 "nbformat_minor": 2
}
